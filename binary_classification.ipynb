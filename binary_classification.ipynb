{
 "cells": [
  {
   "cell_type": "markdown",
   "metadata": {},
   "source": [
    "## Binary Classification\n",
    "\n",
    "### Preprocess the data using the Z-score normalization, and randomly split the data into a training set and a test set using the hold-out scheme: 70% of samples for training and the other 30% for testing"
   ]
  },
  {
   "cell_type": "code",
   "execution_count": 1,
   "metadata": {},
   "outputs": [
    {
     "data": {
      "text/html": [
       "<div>\n",
       "<style scoped>\n",
       "    .dataframe tbody tr th:only-of-type {\n",
       "        vertical-align: middle;\n",
       "    }\n",
       "\n",
       "    .dataframe tbody tr th {\n",
       "        vertical-align: top;\n",
       "    }\n",
       "\n",
       "    .dataframe thead th {\n",
       "        text-align: right;\n",
       "    }\n",
       "</style>\n",
       "<table border=\"1\" class=\"dataframe\">\n",
       "  <thead>\n",
       "    <tr style=\"text-align: right;\">\n",
       "      <th></th>\n",
       "      <th>Feature1</th>\n",
       "      <th>Feature2</th>\n",
       "      <th>Feature3</th>\n",
       "      <th>Feature4</th>\n",
       "      <th>Feature5</th>\n",
       "      <th>Feature6</th>\n",
       "      <th>Feature7</th>\n",
       "      <th>Feature8</th>\n",
       "      <th>Feature9</th>\n",
       "      <th>Feature10</th>\n",
       "      <th>...</th>\n",
       "      <th>Feature49</th>\n",
       "      <th>Feature50</th>\n",
       "      <th>Feature51</th>\n",
       "      <th>Feature52</th>\n",
       "      <th>Feature53</th>\n",
       "      <th>Feature54</th>\n",
       "      <th>Feature55</th>\n",
       "      <th>Feature56</th>\n",
       "      <th>Feature57</th>\n",
       "      <th>Label</th>\n",
       "    </tr>\n",
       "  </thead>\n",
       "  <tbody>\n",
       "    <tr>\n",
       "      <th>0</th>\n",
       "      <td>1</td>\n",
       "      <td>2</td>\n",
       "      <td>1</td>\n",
       "      <td>2</td>\n",
       "      <td>1</td>\n",
       "      <td>2</td>\n",
       "      <td>3</td>\n",
       "      <td>3</td>\n",
       "      <td>3</td>\n",
       "      <td>3</td>\n",
       "      <td>...</td>\n",
       "      <td>3</td>\n",
       "      <td>2</td>\n",
       "      <td>3</td>\n",
       "      <td>4</td>\n",
       "      <td>2</td>\n",
       "      <td>2</td>\n",
       "      <td>2</td>\n",
       "      <td>2</td>\n",
       "      <td>1</td>\n",
       "      <td>1</td>\n",
       "    </tr>\n",
       "    <tr>\n",
       "      <th>1</th>\n",
       "      <td>3</td>\n",
       "      <td>3</td>\n",
       "      <td>4</td>\n",
       "      <td>2</td>\n",
       "      <td>1</td>\n",
       "      <td>2</td>\n",
       "      <td>2</td>\n",
       "      <td>4</td>\n",
       "      <td>3</td>\n",
       "      <td>2</td>\n",
       "      <td>...</td>\n",
       "      <td>1</td>\n",
       "      <td>4</td>\n",
       "      <td>3</td>\n",
       "      <td>4</td>\n",
       "      <td>4</td>\n",
       "      <td>4</td>\n",
       "      <td>1</td>\n",
       "      <td>3</td>\n",
       "      <td>4</td>\n",
       "      <td>1</td>\n",
       "    </tr>\n",
       "    <tr>\n",
       "      <th>2</th>\n",
       "      <td>4</td>\n",
       "      <td>1</td>\n",
       "      <td>4</td>\n",
       "      <td>4</td>\n",
       "      <td>4</td>\n",
       "      <td>4</td>\n",
       "      <td>1</td>\n",
       "      <td>1</td>\n",
       "      <td>2</td>\n",
       "      <td>1</td>\n",
       "      <td>...</td>\n",
       "      <td>1</td>\n",
       "      <td>2</td>\n",
       "      <td>1</td>\n",
       "      <td>1</td>\n",
       "      <td>4</td>\n",
       "      <td>2</td>\n",
       "      <td>2</td>\n",
       "      <td>4</td>\n",
       "      <td>4</td>\n",
       "      <td>1</td>\n",
       "    </tr>\n",
       "    <tr>\n",
       "      <th>3</th>\n",
       "      <td>1</td>\n",
       "      <td>4</td>\n",
       "      <td>1</td>\n",
       "      <td>1</td>\n",
       "      <td>3</td>\n",
       "      <td>3</td>\n",
       "      <td>4</td>\n",
       "      <td>4</td>\n",
       "      <td>3</td>\n",
       "      <td>4</td>\n",
       "      <td>...</td>\n",
       "      <td>1</td>\n",
       "      <td>3</td>\n",
       "      <td>3</td>\n",
       "      <td>4</td>\n",
       "      <td>1</td>\n",
       "      <td>3</td>\n",
       "      <td>3</td>\n",
       "      <td>4</td>\n",
       "      <td>2</td>\n",
       "      <td>-1</td>\n",
       "    </tr>\n",
       "    <tr>\n",
       "      <th>4</th>\n",
       "      <td>3</td>\n",
       "      <td>4</td>\n",
       "      <td>4</td>\n",
       "      <td>3</td>\n",
       "      <td>1</td>\n",
       "      <td>1</td>\n",
       "      <td>4</td>\n",
       "      <td>4</td>\n",
       "      <td>4</td>\n",
       "      <td>1</td>\n",
       "      <td>...</td>\n",
       "      <td>3</td>\n",
       "      <td>1</td>\n",
       "      <td>3</td>\n",
       "      <td>2</td>\n",
       "      <td>1</td>\n",
       "      <td>4</td>\n",
       "      <td>2</td>\n",
       "      <td>1</td>\n",
       "      <td>1</td>\n",
       "      <td>-1</td>\n",
       "    </tr>\n",
       "  </tbody>\n",
       "</table>\n",
       "<p>5 rows × 58 columns</p>\n",
       "</div>"
      ],
      "text/plain": [
       "   Feature1  Feature2  Feature3  Feature4  Feature5  Feature6  Feature7  \\\n",
       "0         1         2         1         2         1         2         3   \n",
       "1         3         3         4         2         1         2         2   \n",
       "2         4         1         4         4         4         4         1   \n",
       "3         1         4         1         1         3         3         4   \n",
       "4         3         4         4         3         1         1         4   \n",
       "\n",
       "   Feature8  Feature9  Feature10  ...  Feature49  Feature50  Feature51  \\\n",
       "0         3         3          3  ...          3          2          3   \n",
       "1         4         3          2  ...          1          4          3   \n",
       "2         1         2          1  ...          1          2          1   \n",
       "3         4         3          4  ...          1          3          3   \n",
       "4         4         4          1  ...          3          1          3   \n",
       "\n",
       "   Feature52  Feature53  Feature54  Feature55  Feature56  Feature57  Label  \n",
       "0          4          2          2          2          2          1      1  \n",
       "1          4          4          4          1          3          4      1  \n",
       "2          1          4          2          2          4          4      1  \n",
       "3          4          1          3          3          4          2     -1  \n",
       "4          2          1          4          2          1          1     -1  \n",
       "\n",
       "[5 rows x 58 columns]"
      ]
     },
     "execution_count": 1,
     "metadata": {},
     "output_type": "execute_result"
    }
   ],
   "source": [
    "import pandas as pd\n",
    "\n",
    "df_a = pd.read_csv('DataA1.csv')\n",
    "df_a.describe()\n"
   ]
  },
  {
   "cell_type": "code",
   "execution_count": 2,
   "metadata": {},
   "outputs": [
    {
     "data": {
      "text/plain": [
       "58"
      ]
     },
     "execution_count": 2,
     "metadata": {},
     "output_type": "execute_result"
    }
   ],
   "source": [
    "from sklearn import preprocessing\n",
    "\n",
    "df_y = df_a['Label']\n",
    "df_z = df_a.drop('Label', axis=1)\n",
    "\n",
    "std_scaler = preprocessing.StandardScaler()\n",
    "std_transformer = std_scaler.fit_transform(df_a)\n",
    "df_standardized_features = pd.DataFrame(std_transformer, index=df_a.index, columns=df_a.columns) \n",
    "df_standardized_features['Label']=df_y\n",
    "df_standardized_features.describe()\n",
    "df_standardized_features.count().count()"
   ]
  },
  {
   "cell_type": "code",
   "execution_count": 3,
   "metadata": {},
   "outputs": [
    {
     "data": {
      "text/plain": [
       "1540"
      ]
     },
     "execution_count": 3,
     "metadata": {},
     "output_type": "execute_result"
    }
   ],
   "source": [
    "from sklearn.model_selection import train_test_split\n",
    "\n",
    "X = df_standardized_features.copy()\n",
    "X.drop('Label',axis=1,inplace=True)\n",
    "Y = df_y\n",
    "X_train, X_test, Y_train, Y_test = train_test_split(X, Y, test_size=0.30, random_state=42)\n",
    "Y_train.count()"
   ]
  },
  {
   "cell_type": "code",
   "execution_count": 4,
   "metadata": {},
   "outputs": [
    {
     "data": {
      "text/plain": [
       "660"
      ]
     },
     "execution_count": 4,
     "metadata": {},
     "output_type": "execute_result"
    }
   ],
   "source": [
    "Y_test.count()"
   ]
  },
  {
   "cell_type": "markdown",
   "metadata": {},
   "source": [
    "### Use 5-fold cross validation on the training set to select the parameters k for k-NN from the set [1, 3, 5, 7, ..., 31]. Plot a figure that shows the relationship between the accuracy and the parameter k. Report the best k in terms of classification accuracy"
   ]
  },
  {
   "cell_type": "code",
   "execution_count": 23,
   "metadata": {},
   "outputs": [
    {
     "data": {
      "text/plain": [
       "Text(0, 0.5, 'Accuracy')"
      ]
     },
     "execution_count": 23,
     "metadata": {},
     "output_type": "execute_result"
    },
    {
     "data": {
      "image/png": "[encoded data removed]",
      "text/plain": [
       "<Figure size 720x432 with 1 Axes>"
      ]
     },
     "metadata": {
      "needs_background": "light"
     },
     "output_type": "display_data"
    }
   ],
   "source": [
    "import numpy as np\n",
    "# from scipy import stats\n",
    "import matplotlib.pyplot as plt\n",
    "# import seaborn as sns\n",
    "from sklearn.model_selection import cross_val_score\n",
    "from sklearn.neighbors import KNeighborsClassifier\n",
    "\n",
    "kNN_Accuracy = []\n",
    "for i in range(1,32,2):\n",
    "    kNN = KNeighborsClassifier(n_neighbors=i)\n",
    "    #cross validation accuracy score using 5 fold validation for k neighbors\n",
    "    c_val_score = cross_val_score(kNN,X_train,Y_train, cv=5, scoring='accuracy')\n",
    "    kNN_Accuracy.append(np.average(c_val_score))\n",
    "# sorted_tuples = sorted(svm_Accuracy, key=lambda x: x[1])\n",
    "# print(sorted_tuples)\n",
    "\n",
    "plt.figure(figsize=(10,6))\n",
    "plt.plot(range(1,33,2),kNN_Accuracy,color='blue',linestyle='dashed',marker='o',\n",
    "        markerfacecolor='purple',markersize=10)\n",
    "plt.title('Accuracy vs K Value')\n",
    "plt.xlabel('K')\n",
    "plt.ylabel('Accuracy')"
   ]
  },
  {
   "cell_type": "code",
   "execution_count": 24,
   "metadata": {},
   "outputs": [
    {
     "data": {
      "text/plain": [
       "0.7376623376623377"
      ]
     },
     "execution_count": 24,
     "metadata": {},
     "output_type": "execute_result"
    }
   ],
   "source": [
    "max(kNN_Accuracy)"
   ]
  },
  {
   "cell_type": "markdown",
   "metadata": {},
   "source": [
    "Based on the depicted graph, the K-value associated with the highest accuracy is 15, yielding an accuracy rate of 0.7376623376623377."
   ]
  },
  {
   "cell_type": "markdown",
   "metadata": {},
   "source": [
    "## For the RBF kernel SVM, there are two parameters to be decided: the soft margin penalty term c and the kernel width parameter gamma. Again use 5-fold cross validation on the training set to select the parameter c from the set [0.1, 0.5, 1, 2, 5, 10, 20, 50] and select the parameter gamma from the set [0.01, 0.05, 0.1, 0.5, 1, 2, 5, 10]. Report the best parameters in terms of classification accuracy. "
   ]
  },
  {
   "cell_type": "code",
   "execution_count": 25,
   "metadata": {},
   "outputs": [
    {
     "data": {
      "text/plain": [
       "0.9045454545454547"
      ]
     },
     "execution_count": 25,
     "metadata": {},
     "output_type": "execute_result"
    }
   ],
   "source": [
    "from sklearn.svm import SVC\n",
    "from sklearn.model_selection import GridSearchCV\n",
    "\n",
    "svm_rbf = SVC(kernel='linear',random_state=0)\n",
    "params = [{'C':[0.1, 0.5, 1, 2, 5,10, 20, 50],'kernel':['rbf'],'gamma':[0.01, 0.05, 0.1, 0.5, 1, 2, 5, 10]}]\n",
    "grid_search = GridSearchCV(estimator=svm_rbf,param_grid=params,scoring='accuracy',cv=5,n_jobs=-1)\n",
    "grid_search_model = grid_search.fit(X_train,Y_train)\n",
    "accuracy_grid = grid_search.best_score_\n",
    "accuracy_grid"
   ]
  },
  {
   "cell_type": "code",
   "execution_count": 26,
   "metadata": {},
   "outputs": [
    {
     "data": {
      "text/plain": [
       "{'C': 10, 'gamma': 0.01, 'kernel': 'rbf'}"
      ]
     },
     "execution_count": 26,
     "metadata": {},
     "output_type": "execute_result"
    }
   ],
   "source": [
    "grid_search_model.best_params_\n"
   ]
  },
  {
   "cell_type": "markdown",
   "metadata": {},
   "source": [
    "The accuracy of the best parameters is 0.9045454545454547\n",
    "and the best parameters are {'C': 10, 'gamma': 0.01, 'kernel': 'rbf'}."
   ]
  },
  {
   "cell_type": "markdown",
   "metadata": {},
   "source": [
    "### Using the chosen parameters from the above parameter selection process for k-NN and SVM, and the default setups for Naïve Bayes classifier and Decision Tree, classify the test set. Repeat each classification method 20 times by varying the split of training-test set as in Step (1). Report the average and standard deviation of classification performance on the test set regarding accuracy, precision, recall, and F1-score. "
   ]
  },
  {
   "cell_type": "code",
   "execution_count": 40,
   "metadata": {},
   "outputs": [
    {
     "name": "stdout",
     "output_type": "stream",
     "text": [
      "0.3745401188473625\n",
      "0.9507143064099162\n",
      "0.7319939418114051\n",
      "0.5986584841970366\n",
      "0.15601864044243652\n",
      "0.15599452033620265\n",
      "0.05808361216819946\n",
      "0.8661761457749352\n",
      "0.6011150117432088\n",
      "0.7080725777960455\n",
      "0.020584494295802447\n",
      "0.9699098521619943\n",
      "0.8324426408004217\n",
      "0.21233911067827616\n",
      "0.18182496720710062\n",
      "0.18340450985343382\n",
      "0.3042422429595377\n",
      "0.5247564316322378\n",
      "0.43194501864211576\n"
     ]
    }
   ],
   "source": [
    "from sklearn.metrics import accuracy_score, classification_report\n",
    "from sklearn.naive_bayes import GaussianNB\n",
    "from sklearn.tree import DecisionTreeClassifier\n",
    "\n",
    "np.random.seed(42)\n",
    "\n",
    "kNN_accuracy = []\n",
    "kNN_precision = []\n",
    "kNN_recall = []\n",
    "kNN_f1score = []\n",
    "\n",
    "kNN_Classifier = KNeighborsClassifier(n_neighbors=15)\n",
    "kNN_Classifier = kNN_Classifier.fit(X_train,Y_train)\n",
    "\n",
    "svm_accuracy = []\n",
    "svm_precision = []\n",
    "svm_recall = []\n",
    "svm_f1score = []\n",
    "\n",
    "svm_Classifier = SVC(kernel='rbf',C=10,gamma=0.01,random_state=0)\n",
    "svm_Classifier = svm_Classifier.fit(X_train,Y_train)\n",
    "\n",
    "nb_accuracy = []\n",
    "nb_precision = []\n",
    "nb_recall = []\n",
    "nb_f1score = []\n",
    "\n",
    "nb_Classifier = GaussianNB()\n",
    "nb_Classifier = nb_Classifier.fit(X, Y)\n",
    "\n",
    "dtree_accuracy = []\n",
    "dtree_precision = []\n",
    "dtree_recall = []\n",
    "dtree_f1score = []\n",
    "\n",
    "dtree_classifier = DecisionTreeClassifier(random_state=42)\n",
    "dtree_classifier = dtree_classifier.fit(X_train,Y_train)\n",
    "\n",
    "for i in range(1,20):\n",
    "    test_split = np.random.rand()\n",
    "    X_train, X_test, Y_train, Y_test = train_test_split(X, Y, test_size=test_split, random_state=42)\n",
    "    \n",
    "    ### kNN Classifier\n",
    "    predictions = kNN_Classifier.predict(X_test)\n",
    "    report = classification_report(Y_test, predictions, output_dict=True)\n",
    "    accuracy = accuracy_score(Y_test, predictions)\n",
    "    weighted_avg_precision = report['weighted avg']['precision']\n",
    "    weighted_avg_recall = report['weighted avg']['recall']\n",
    "    weighted_avg_f1_score = report['weighted avg']['f1-score']\n",
    "\n",
    "    kNN_accuracy.append(accuracy)\n",
    "    kNN_precision.append(weighted_avg_precision)\n",
    "    kNN_recall.append(weighted_avg_recall)\n",
    "    kNN_f1score.append(weighted_avg_f1_score)\n",
    "\n",
    "    ### SVM Classifier\n",
    "    predictions = svm_Classifier.predict(X_test)\n",
    "    report = classification_report(Y_test, predictions, output_dict=True)\n",
    "    accuracy = accuracy_score(Y_test, predictions)\n",
    "    weighted_avg_precision = report['weighted avg']['precision']\n",
    "    weighted_avg_recall = report['weighted avg']['recall']\n",
    "    weighted_avg_f1_score = report['weighted avg']['f1-score']\n",
    "    \n",
    "    svm_accuracy.append(accuracy)\n",
    "    svm_precision.append(weighted_avg_precision)\n",
    "    svm_recall.append(weighted_avg_recall)\n",
    "    svm_f1score.append(weighted_avg_f1_score)\n",
    "\n",
    "    ### NB Classifier\n",
    "    predictions = nb_Classifier.predict(X_test)\n",
    "    report = classification_report(Y_test, predictions, output_dict=True)\n",
    "    accuracy = accuracy_score(Y_test, predictions)\n",
    "    weighted_avg_precision = report['weighted avg']['precision']\n",
    "    weighted_avg_recall = report['weighted avg']['recall']\n",
    "    weighted_avg_f1_score = report['weighted avg']['f1-score']\n",
    "\n",
    "    nb_accuracy.append(accuracy)\n",
    "    nb_precision.append(weighted_avg_precision)\n",
    "    nb_recall.append(weighted_avg_recall)\n",
    "    nb_f1score.append(weighted_avg_f1_score)\n",
    "\n",
    "    ### Decision Tree Classifier\n",
    "    predictions = dtree_classifier.predict(X_test)\n",
    "    report = classification_report(Y_test, predictions, output_dict=True)\n",
    "    accuracy = accuracy_score(Y_test, predictions)\n",
    "    weighted_avg_precision = report['weighted avg']['precision']\n",
    "    weighted_avg_recall = report['weighted avg']['recall']\n",
    "    weighted_avg_f1_score = report['weighted avg']['f1-score']\n",
    "\n",
    "    dtree_accuracy.append(accuracy)\n",
    "    dtree_precision.append(weighted_avg_precision)\n",
    "    dtree_recall.append(weighted_avg_recall)\n",
    "    dtree_f1score.append(weighted_avg_f1_score)"
   ]
  },
  {
   "cell_type": "code",
   "execution_count": 39,
   "metadata": {},
   "outputs": [
    {
     "data": {
      "text/html": [
       "<div>\n",
       "<style scoped>\n",
       "    .dataframe tbody tr th:only-of-type {\n",
       "        vertical-align: middle;\n",
       "    }\n",
       "\n",
       "    .dataframe tbody tr th {\n",
       "        vertical-align: top;\n",
       "    }\n",
       "\n",
       "    .dataframe thead tr th {\n",
       "        text-align: left;\n",
       "    }\n",
       "</style>\n",
       "<table border=\"1\" class=\"dataframe\">\n",
       "  <thead>\n",
       "    <tr>\n",
       "      <th></th>\n",
       "      <th colspan=\"2\" halign=\"left\">kNN</th>\n",
       "      <th colspan=\"2\" halign=\"left\">SVM</th>\n",
       "      <th colspan=\"2\" halign=\"left\">Naive Bayes</th>\n",
       "      <th colspan=\"2\" halign=\"left\">D Tree</th>\n",
       "    </tr>\n",
       "    <tr>\n",
       "      <th></th>\n",
       "      <th>Average</th>\n",
       "      <th>Standard Deviation</th>\n",
       "      <th>Average</th>\n",
       "      <th>Standard Deviation</th>\n",
       "      <th>Average</th>\n",
       "      <th>Standard Deviation</th>\n",
       "      <th>Average</th>\n",
       "      <th>Standard Deviation</th>\n",
       "    </tr>\n",
       "  </thead>\n",
       "  <tbody>\n",
       "    <tr>\n",
       "      <th>Accuracy</th>\n",
       "      <td>0.731092</td>\n",
       "      <td>0.013327</td>\n",
       "      <td>0.929573</td>\n",
       "      <td>0.022027</td>\n",
       "      <td>0.880372</td>\n",
       "      <td>0.005373</td>\n",
       "      <td>0.945428</td>\n",
       "      <td>0.019135</td>\n",
       "    </tr>\n",
       "    <tr>\n",
       "      <th>Precision</th>\n",
       "      <td>0.809097</td>\n",
       "      <td>0.013609</td>\n",
       "      <td>0.929927</td>\n",
       "      <td>0.022011</td>\n",
       "      <td>0.881070</td>\n",
       "      <td>0.006435</td>\n",
       "      <td>0.945550</td>\n",
       "      <td>0.019214</td>\n",
       "    </tr>\n",
       "    <tr>\n",
       "      <th>Recall</th>\n",
       "      <td>0.731092</td>\n",
       "      <td>0.013327</td>\n",
       "      <td>0.929573</td>\n",
       "      <td>0.022027</td>\n",
       "      <td>0.880372</td>\n",
       "      <td>0.005373</td>\n",
       "      <td>0.945428</td>\n",
       "      <td>0.019135</td>\n",
       "    </tr>\n",
       "    <tr>\n",
       "      <th>F1 Score</th>\n",
       "      <td>0.714848</td>\n",
       "      <td>0.015871</td>\n",
       "      <td>0.929576</td>\n",
       "      <td>0.022036</td>\n",
       "      <td>0.880296</td>\n",
       "      <td>0.005356</td>\n",
       "      <td>0.945426</td>\n",
       "      <td>0.019141</td>\n",
       "    </tr>\n",
       "  </tbody>\n",
       "</table>\n",
       "</div>"
      ],
      "text/plain": [
       "                kNN                          SVM                     \\\n",
       "            Average Standard Deviation   Average Standard Deviation   \n",
       "Accuracy   0.731092           0.013327  0.929573           0.022027   \n",
       "Precision  0.809097           0.013609  0.929927           0.022011   \n",
       "Recall     0.731092           0.013327  0.929573           0.022027   \n",
       "F1 Score   0.714848           0.015871  0.929576           0.022036   \n",
       "\n",
       "          Naive Bayes                       D Tree                     \n",
       "              Average Standard Deviation   Average Standard Deviation  \n",
       "Accuracy     0.880372           0.005373  0.945428           0.019135  \n",
       "Precision    0.881070           0.006435  0.945550           0.019214  \n",
       "Recall       0.880372           0.005373  0.945428           0.019135  \n",
       "F1 Score     0.880296           0.005356  0.945426           0.019141  "
      ]
     },
     "execution_count": 39,
     "metadata": {},
     "output_type": "execute_result"
    }
   ],
   "source": [
    "# Initialize the DataFrame\n",
    "statInfo = pd.DataFrame()\n",
    "\n",
    "# kNN\n",
    "kNN_descr_avg = pd.DataFrame({\n",
    "    'Average': [np.average(kNN_accuracy), np.average(kNN_precision), np.average(kNN_recall), np.average(kNN_f1score)],\n",
    "    'Standard Deviation': [np.std(kNN_accuracy), np.std(kNN_precision), np.std(kNN_recall), np.std(kNN_f1score)]\n",
    "}, index=['Accuracy', 'Precision', 'Recall', 'F1 Score'])\n",
    "\n",
    "statInfo = pd.concat([statInfo, kNN_descr_avg], axis=1)\n",
    "\n",
    "# SVM\n",
    "svm_descr_avg = pd.DataFrame({\n",
    "    'Average': [np.average(svm_accuracy), np.average(svm_precision), np.average(svm_recall), np.average(svm_f1score)],\n",
    "    'Standard Deviation': [np.std(svm_accuracy), np.std(svm_precision), np.std(svm_recall), np.std(svm_f1score)]\n",
    "}, index=['Accuracy', 'Precision', 'Recall', 'F1 Score'])\n",
    "\n",
    "statInfo = pd.concat([statInfo, svm_descr_avg], axis=1)\n",
    "\n",
    "# Naive Bayes\n",
    "nb_descr_avg = pd.DataFrame({\n",
    "    'Average': [np.average(nb_accuracy), np.average(nb_precision), np.average(nb_recall), np.average(nb_f1score)],\n",
    "    'Standard Deviation': [np.std(nb_accuracy), np.std(nb_precision), np.std(nb_recall), np.std(nb_f1score)]\n",
    "}, index=['Accuracy', 'Precision', 'Recall', 'F1 Score'])\n",
    "\n",
    "statInfo = pd.concat([statInfo, nb_descr_avg], axis=1)\n",
    "\n",
    "# Decision Tree\n",
    "dtree_descr_avg = pd.DataFrame({\n",
    "    'Average': [np.average(dtree_accuracy), np.average(dtree_precision), np.average(dtree_recall), np.average(dtree_f1score)],\n",
    "    'Standard Deviation': [np.std(dtree_accuracy), np.std(dtree_precision), np.std(dtree_recall), np.std(dtree_f1score)]\n",
    "}, index=['Accuracy', 'Precision', 'Recall', 'F1 Score'])\n",
    "\n",
    "statInfo = pd.concat([statInfo, dtree_descr_avg], axis=1)\n",
    "\n",
    "# Organize data\n",
    "statInfo.columns = pd.MultiIndex.from_arrays([\n",
    "    ['kNN', 'kNN', 'SVM', 'SVM', 'Naive Bayes', 'Naive Bayes', 'Decision Tree', 'Decision Tree'],\n",
    "    ['Average', 'Standard Deviation', 'Average', 'Standard Deviation', 'Average', 'Standard Deviation', 'Average', 'Standard Deviation']\n",
    "])\n",
    "\n",
    "statInfo"
   ]
  },
  {
   "cell_type": "markdown",
   "metadata": {},
   "source": [
    "The decision tree classification exhibited the highest accuracy among all methods. However, it's noteworthy that the standard deviation of the Naive Bayes method was the lowest, implying that its results were the most consistent and reproducible."
   ]
  }
 ],
 "metadata": {
  "kernelspec": {
   "display_name": "Python 3",
   "language": "python",
   "name": "python3"
  },
  "language_info": {
   "codemirror_mode": {
    "name": "ipython",
    "version": 3
   },
   "file_extension": ".py",
   "mimetype": "text/x-python",
   "name": "python",
   "nbconvert_exporter": "python",
   "pygments_lexer": "ipython3",
   "version": "3.7.7"
  }
 },
 "nbformat": 4,
 "nbformat_minor": 2
}
