{
 "cells": [
  {
   "cell_type": "markdown",
   "metadata": {},
   "source": [
    "## Multi-Class Classification \n",
    "### Describe and develop the training and classification procedures by using the “one-versus-all” and “one-versus-one” strategy for SVM. "
   ]
  },
  {
   "cell_type": "code",
   "execution_count": 2,
   "metadata": {},
   "outputs": [
    {
     "name": "stdout",
     "output_type": "stream",
     "text": [
      "0.9555555555555556\n",
      "1.0\n"
     ]
    }
   ],
   "source": [
    "import pandas as pd\n",
    "from sklearn.svm import SVC\n",
    "from sklearn.multiclass import OneVsRestClassifier, OneVsOneClassifier\n",
    "from sklearn.model_selection import train_test_split\n",
    "\n",
    "df_b = pd.read_csv('DataB1.csv')\n",
    "df_b.describe()\n",
    "\n",
    "X = df_b.copy()\n",
    "X.drop('class',axis=1,inplace=True)\n",
    "Y = df_b['class']\n",
    "\n",
    "X_train, X_test, Y_train, Y_test = train_test_split(X, Y, test_size=0.30, random_state=42)\n",
    "\n",
    "svm_classifier = SVC(kernel='linear')\n",
    "\n",
    "# One-vs-All (OvA) Strategy\n",
    "ova_svm_classifier = OneVsRestClassifier(svm_classifier)\n",
    "ova_svm_classifier.fit(X_train, Y_train)\n",
    "ova_predictions = ova_svm_classifier.predict(X_test)\n",
    "\n",
    "# One-vs-One (OvO) Strategy\n",
    "ovo_svm_classifier = OneVsOneClassifier(svm_classifier)\n",
    "ovo_svm_classifier.fit(X_train, Y_train)\n",
    "ovo_predictions = ovo_svm_classifier.predict(X_test)\n",
    "\n",
    "# Evaluate performance (accuracy)\n",
    "ova_accuracy = ova_svm_classifier.score(X_test, Y_test)\n",
    "ovo_accuracy = ovo_svm_classifier.score(X_test, Y_test)\n",
    "\n",
    "print(\"One-vs-All (OvA) Accuracy:\", ova_accuracy)\n",
    "print(\"One-vs-One (OvO) Accuracy:\", ovo_accuracy)"
   ]
  }
 ],
 "metadata": {
  "kernelspec": {
   "display_name": "Python 3",
   "language": "python",
   "name": "python3"
  },
  "language_info": {
   "codemirror_mode": {
    "name": "ipython",
    "version": 3
   },
   "file_extension": ".py",
   "mimetype": "text/x-python",
   "name": "python",
   "nbconvert_exporter": "python",
   "pygments_lexer": "ipython3",
   "version": "3.7.7"
  }
 },
 "nbformat": 4,
 "nbformat_minor": 2
}
