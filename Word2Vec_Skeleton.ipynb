{
  "nbformat": 4,
  "nbformat_minor": 0,
  "metadata": {
    "colab": {
      "provenance": [],
      "gpuType": "T4",
      "include_colab_link": true
    },
    "kernelspec": {
      "name": "python3",
      "display_name": "Python 3"
    },
    "language_info": {
      "name": "python"
    },
    "accelerator": "GPU"
  },
  "cells": [
    {
      "cell_type": "markdown",
      "metadata": {
        "id": "view-in-github",
        "colab_type": "text"
      },
      "source": [
        "<a href=\"https://colab.research.google.com/github/Tosinoladejo1/Binary_Classification_Project/blob/main/Word2Vec_Skeleton.ipynb\" target=\"_parent\"><img src=\"https://colab.research.google.com/assets/colab-badge.svg\" alt=\"Open In Colab\"/></a>"
      ]
    },
    {
      "cell_type": "markdown",
      "source": [
        "# Importing libraries"
      ],
      "metadata": {
        "id": "gqeGGFcnokoh"
      }
    },
    {
      "cell_type": "code",
      "execution_count": 70,
      "metadata": {
        "id": "31x1tVfgdmZq"
      },
      "outputs": [],
      "source": [
        "import numpy as np\n",
        "import os\n",
        "import tensorflow as tf\n",
        "from tensorflow.keras.models import Model\n",
        "from tensorflow.keras.layers import Input, Embedding, Dense, Lambda\n",
        "from tensorflow.keras.preprocessing.sequence import pad_sequences\n",
        "from tensorflow.keras.utils import to_categorical\n",
        "import tensorflow.keras.backend as K\n",
        "\n",
        "from sklearn.model_selection import train_test_split\n",
        "import matplotlib.pyplot as plt\n",
        "\n",
        "import random"
      ]
    },
    {
      "cell_type": "markdown",
      "source": [
        "# Set random seed"
      ],
      "metadata": {
        "id": "O2FiqCLjvCbL"
      }
    },
    {
      "cell_type": "code",
      "source": [
        "# Set environment variables\n",
        "os.environ['PYTHONHASHSEED'] = str(25)\n",
        "os.environ['TF_DETERMINISTIC_OPS'] = '1'\n",
        "os.environ['TF_CUDNN_DETERMINISTIC'] = '1'\n",
        "\n",
        "# Set seed values\n",
        "np.random.seed(25)\n",
        "tf.random.set_seed(25)\n",
        "random.seed(25)"
      ],
      "metadata": {
        "id": "ziEj8ly6vE9r"
      },
      "execution_count": 7,
      "outputs": []
    },
    {
      "cell_type": "markdown",
      "source": [
        "# TODO: Preprocess"
      ],
      "metadata": {
        "id": "9tT4SznWvOMV"
      }
    },
    {
      "cell_type": "code",
      "source": [
        "# Preprocess the text\n",
        "def preprocess(text):\n",
        "    words=text.split()\n",
        "    return words\n"
      ],
      "metadata": {
        "id": "fuuTn2EzvREK"
      },
      "execution_count": 8,
      "outputs": []
    },
    {
      "cell_type": "code",
      "source": [
        "# Replace with the actual path to your file\n",
        "file_path = '/content/drive/My Drive/small_corpus.txt'\n",
        "\n",
        "with open(file_path, 'r', encoding='utf-8') as file:\n",
        "    text = file.read()\n",
        "\n",
        "words = preprocess(text)\n",
        "\n",
        "print(f\"Number of words:{len(words)}\")\n"
      ],
      "metadata": {
        "colab": {
          "base_uri": "https://localhost:8080/"
        },
        "id": "B86jw7Xwpk4F",
        "outputId": "99c00756-66b5-4f6b-b3c0-0676dae6c4b0"
      },
      "execution_count": 11,
      "outputs": [
        {
          "output_type": "stream",
          "name": "stdout",
          "text": [
            "Number of words:280000\n"
          ]
        }
      ]
    },
    {
      "source": [
        "# Import necessary library\n",
        "import os\n",
        "\n",
        "# Mount Google Drive (if necessary)\n",
        "from google.colab import drive\n",
        "drive.mount('/content/drive')\n",
        "\n",
        "# Replace with the actual path to your file\n",
        "file_path = '/content/drive/My Drive/small_corpus.txt'\n",
        "\n",
        "# Check if the file exists\n",
        "if os.path.exists(file_path):\n",
        "    with open(file_path, 'r', encoding='utf-8') as file:\n",
        "        text = file.read()\n",
        "\n",
        "    words = preprocess(text)\n",
        "\n",
        "    print(f\"Number of words:{len(words)}\")\n",
        "else:\n",
        "    print(f\"File not found: {file_path}\")"
      ],
      "cell_type": "code",
      "metadata": {
        "colab": {
          "base_uri": "https://localhost:8080/"
        },
        "id": "aZZToiMezCHW",
        "outputId": "9d8b1d21-9b9b-4e5f-cd3a-565f141de63e"
      },
      "execution_count": 10,
      "outputs": [
        {
          "output_type": "stream",
          "name": "stdout",
          "text": [
            "Mounted at /content/drive\n",
            "Number of words:280000\n"
          ]
        }
      ]
    },
    {
      "cell_type": "markdown",
      "source": [
        "# TODO: Build Vocabulary and training data"
      ],
      "metadata": {
        "id": "0Wi3Pk-5vVd7"
      }
    },
    {
      "cell_type": "code",
      "source": [
        "# TODO: Build vocabulary and generate training data\n",
        "from collections import defaultdict\n",
        "\n",
        "def build_and_prepare_data(words, window_size=2):\n",
        "    # Build vocabulary\n",
        "    vocab = defaultdict(int)\n",
        "    for word in words:\n",
        "        vocab[word] += 1\n",
        "\n",
        "    word_to_index = {word: i for i, word in enumerate(vocab)}\n",
        "    index_to_word = {i: word for word, i in word_to_index.items()}\n",
        "\n",
        "    # Generate context-target pairs\n",
        "    contexts = []\n",
        "    targets = []\n",
        "\n",
        "    for i in range(len(words)):\n",
        "      target = word_to_index[words[i]]\n",
        "      context = [\n",
        "          word_to_index[words[j]]\n",
        "          for j in range(max(0, i - window_size), min(len(words), i + window_size + 1))\n",
        "          if i != j\n",
        "      ]\n",
        "      for ctx in context:\n",
        "            contexts.append(context)\n",
        "            targets.append(target)\n",
        "\n",
        "    vocab_size = len(vocab)\n",
        "    num_contexts = len(contexts)\n",
        "    num_targets = len(targets)\n",
        "\n",
        "    return vocab, contexts, targets"
      ],
      "metadata": {
        "id": "b1oDT32ovXyG"
      },
      "execution_count": 20,
      "outputs": []
    },
    {
      "cell_type": "markdown",
      "source": [
        "# TODO: Build CBOW model"
      ],
      "metadata": {
        "id": "EZzb-mKEvjt6"
      }
    },
    {
      "cell_type": "code",
      "source": [
        "# Define CBOW model function\n",
        "def build_cbow_model(vocab_size, embed_size, window_size):\n",
        "    input_layer = Input(shape=(2 * window_size), name='context_words')\n",
        "    embedding_layer = Embedding(input_dim=vocab_size, output_dim=embed_size, name='embedding_layer' )(input_layer)\n",
        "    average_layer = Lambda(lambda x: tf.reduce_mean(x, axis=1), name='average_layer')(embedding_layer)\n",
        "\n",
        "    output_layer_name = 'output_layer'\n",
        "    output_layer = Dense(vocab_size, activation='softmax', name= output_layer_name)(average_layer)\n",
        "    model = Model(inputs=input_layer, outputs=output_layer)\n",
        "    model.compile(optimizer='adam', loss='categorical_crossentropy', metrics=['accuracy'])\n",
        "\n",
        "    #print the model summary\n",
        "    model.summary()\n",
        "\n",
        "    return model"
      ],
      "metadata": {
        "id": "DR_mXHgbvltf"
      },
      "execution_count": 29,
      "outputs": []
    },
    {
      "cell_type": "markdown",
      "source": [
        "# TODO: Set file path"
      ],
      "metadata": {
        "id": "0Oq50BtE1lWe"
      }
    },
    {
      "cell_type": "code",
      "source": [
        "# TODO: set correct file path\n",
        "file_path = '/content/drive/My Drive/small_corpus.txt'"
      ],
      "metadata": {
        "id": "7fek7pgq1oSf"
      },
      "execution_count": 30,
      "outputs": []
    },
    {
      "cell_type": "markdown",
      "source": [
        "# Running the helper functions"
      ],
      "metadata": {
        "id": "_pHa3gGV1tIq"
      }
    },
    {
      "cell_type": "code",
      "source": [
        "# Read the file\n",
        "with open(file_path, 'r', encoding='utf-8') as file:\n",
        "    text = file.read()\n",
        "\n",
        "words = preprocess(text)\n",
        "\n",
        "# Print vocabulary size\n",
        "print(f\"Number of words: {len(words)}\")\n",
        "\n",
        "# Model parameters\n",
        "window_size = 2\n",
        "\n",
        "# Prepare dataset\n",
        "vocab, contexts, targets = build_and_prepare_data(words, window_size)\n",
        "\n",
        "vocab_size = len(vocab)\n",
        "# Print vocabulary size\n",
        "print(f\"Vocabulary size: {vocab_size}\")\n",
        "\n",
        "# Print lengths of contexts and targets\n",
        "print(f\"Length of contexts array: {len(contexts)}\")\n",
        "print(f\"Length of targets array: {len(targets)}\")"
      ],
      "metadata": {
        "id": "h1VnZMEUvqW5",
        "colab": {
          "base_uri": "https://localhost:8080/"
        },
        "outputId": "455156a8-e1c0-4d4a-b83b-6b758afe9acc"
      },
      "execution_count": 31,
      "outputs": [
        {
          "output_type": "stream",
          "name": "stdout",
          "text": [
            "Number of words: 280000\n",
            "Vocabulary size: 28\n",
            "Length of contexts array: 1119994\n",
            "Length of targets array: 1119994\n"
          ]
        }
      ]
    },
    {
      "cell_type": "markdown",
      "source": [
        "# Split the data inton training and validation sets"
      ],
      "metadata": {
        "id": "JAeFt_mZwejS"
      }
    },
    {
      "cell_type": "code",
      "source": [
        "# Splitting the data\n",
        "contexts_train, contexts_val, targets_train, targets_val = train_test_split(contexts, targets, test_size=0.2, random_state=25)\n",
        "\n",
        "embed_size = 2"
      ],
      "metadata": {
        "id": "EKaUyZlSvzU3"
      },
      "execution_count": 32,
      "outputs": []
    },
    {
      "cell_type": "markdown",
      "source": [
        "# Train the model"
      ],
      "metadata": {
        "id": "7w_SJZcawmFB"
      }
    },
    {
      "cell_type": "code",
      "source": [
        "targets_train = tf.keras.utils.to_categorical(targets_train, num_classes=vocab_size)\n",
        "targets_val = tf.keras.utils.to_categorical(targets_val, num_classes=vocab_size)\n",
        "\n",
        "# Create and train the model\n",
        "model = build_cbow_model(vocab_size, embed_size, window_size)\n",
        "history = model.fit(contexts_train, targets_train, validation_data=(contexts_val, targets_val), epochs=7, verbose=1)\n",
        "model.summary()"
      ],
      "metadata": {
        "id": "M8SK57mFwa0t",
        "colab": {
          "base_uri": "https://localhost:8080/"
        },
        "outputId": "9826adf1-09e2-463e-f0be-8d9d3a054977"
      },
      "execution_count": 37,
      "outputs": [
        {
          "output_type": "stream",
          "name": "stdout",
          "text": [
            "Model: \"model_3\"\n",
            "_________________________________________________________________\n",
            " Layer (type)                Output Shape              Param #   \n",
            "=================================================================\n",
            " context_words (InputLayer)  [(None, 4)]               0         \n",
            "                                                                 \n",
            " embedding_layer (Embedding  (None, 4, 2)              56        \n",
            " )                                                               \n",
            "                                                                 \n",
            " average_layer (Lambda)      (None, 2)                 0         \n",
            "                                                                 \n",
            " output_layer (Dense)        (None, 28)                84        \n",
            "                                                                 \n",
            "=================================================================\n",
            "Total params: 140 (560.00 Byte)\n",
            "Trainable params: 140 (560.00 Byte)\n",
            "Non-trainable params: 0 (0.00 Byte)\n",
            "_________________________________________________________________\n",
            "Epoch 1/7\n",
            "28000/28000 [==============================] - 129s 5ms/step - loss: 2.2415 - accuracy: 0.1345 - val_loss: 2.1967 - val_accuracy: 0.1453\n",
            "Epoch 2/7\n",
            "28000/28000 [==============================] - 136s 5ms/step - loss: 2.1880 - accuracy: 0.1507 - val_loss: 2.1803 - val_accuracy: 0.1533\n",
            "Epoch 3/7\n",
            "28000/28000 [==============================] - 136s 5ms/step - loss: 2.1787 - accuracy: 0.1535 - val_loss: 2.1768 - val_accuracy: 0.1525\n",
            "Epoch 4/7\n",
            "28000/28000 [==============================] - 135s 5ms/step - loss: 2.1761 - accuracy: 0.1543 - val_loss: 2.1742 - val_accuracy: 0.1574\n",
            "Epoch 5/7\n",
            "28000/28000 [==============================] - 137s 5ms/step - loss: 2.1743 - accuracy: 0.1551 - val_loss: 2.1740 - val_accuracy: 0.1578\n",
            "Epoch 6/7\n",
            "28000/28000 [==============================] - 124s 4ms/step - loss: 2.1732 - accuracy: 0.1552 - val_loss: 2.1724 - val_accuracy: 0.1567\n",
            "Epoch 7/7\n",
            "28000/28000 [==============================] - 133s 5ms/step - loss: 2.1721 - accuracy: 0.1570 - val_loss: 2.1716 - val_accuracy: 0.1568\n",
            "Model: \"model_3\"\n",
            "_________________________________________________________________\n",
            " Layer (type)                Output Shape              Param #   \n",
            "=================================================================\n",
            " context_words (InputLayer)  [(None, 4)]               0         \n",
            "                                                                 \n",
            " embedding_layer (Embedding  (None, 4, 2)              56        \n",
            " )                                                               \n",
            "                                                                 \n",
            " average_layer (Lambda)      (None, 2)                 0         \n",
            "                                                                 \n",
            " output_layer (Dense)        (None, 28)                84        \n",
            "                                                                 \n",
            "=================================================================\n",
            "Total params: 140 (560.00 Byte)\n",
            "Trainable params: 140 (560.00 Byte)\n",
            "Non-trainable params: 0 (0.00 Byte)\n",
            "_________________________________________________________________\n"
          ]
        }
      ]
    },
    {
      "cell_type": "markdown",
      "source": [
        "# TODO: Visualise the Training and Validation loss"
      ],
      "metadata": {
        "id": "ARDpEQEYwqeS"
      }
    },
    {
      "cell_type": "code",
      "source": [
        "# Plotting the training and validation loss\n",
        "plt.plot(history.history['loss'], label='Training Loss')\n",
        "plt.plot(history.history['val_loss'], label='Validation Loss')\n",
        "plt.title('Training and Validation Loss')\n",
        "plt.xlabel('Epochs')\n",
        "plt.ylabel('Loss')\n",
        "plt.legend()\n",
        "plt.show()\n"
      ],
      "metadata": {
        "id": "knS04YQgwvBa",
        "colab": {
          "base_uri": "https://localhost:8080/",
          "height": 472
        },
        "outputId": "10c6e6a5-849d-4062-aae6-a7ab8434fa2d"
      },
      "execution_count": 41,
      "outputs": [
        {
          "output_type": "display_data",
          "data": {
            "text/plain": [
              "<Figure size 640x480 with 1 Axes>"
            ],
            "image/png": "[encoded data removed]"
          },
          "metadata": {}
        }
      ]
    },
    {
      "cell_type": "markdown",
      "source": [
        "# TODO: Extract the embeddings"
      ],
      "metadata": {
        "id": "uARqDG-twyV7"
      }
    },
    {
      "cell_type": "code",
      "source": [
        "# Extract embeddings\n",
        "embeddings = model.get_layer('embedding_layer').get_weights()[0]"
      ],
      "metadata": {
        "id": "G2cN8QXMnc7d"
      },
      "execution_count": 42,
      "outputs": []
    },
    {
      "cell_type": "markdown",
      "source": [
        "# TODO: Find similar words"
      ],
      "metadata": {
        "id": "5AuaC0wlw5AQ"
      }
    },
    {
      "cell_type": "code",
      "source": [
        "def cosine_similarity(vec_a, vec_b):\n",
        "    \"\"\"Calculate the cosine similarity between two vectors.\"\"\"\n",
        "    dot_product = np.dot(vec_a, vec_b)\n",
        "    norm_a = np.linalg.norm(vec_a)\n",
        "    norm_b = np.linalg.norm(vec_b)\n",
        "\n",
        "    similarity = 0  # Initialize similarity to a default value\n",
        "    if norm_a != 0 and norm_b != 0:  # Change condition to handle the case when norms are not zero\n",
        "        similarity = dot_product / (norm_a * norm_b)\n",
        "\n",
        "    return similarity\n",
        "\n",
        "def find_similar_words(query_word, vocab, embeddings, top_n=3):\n",
        "    \"\"\"Find the top_n words most similar to the query_word based on the embeddings.\"\"\"\n",
        "    similarities = []\n",
        "\n",
        "\n",
        "    query_word_index = vocab[query_word]\n",
        "    query_embedding = embeddings[query_word_index]\n",
        "    similarities = []\n",
        "\n",
        "    for word, index in vocab.items():\n",
        "      if index < len(embeddings): # Check if index is within bounds\n",
        "         word_embedding = embeddings[index]\n",
        "         similarity = cosine_similarity(query_embedding, word_embedding)\n",
        "         similarities.append((word, similarity))\n",
        "\n",
        "\n",
        "\n",
        "    # Sort based on similarity scores\n",
        "    similarities.sort(key=lambda x: x[1], reverse=True)\n",
        "\n",
        "    # Print top similar words\n",
        "    print(f\"Words most similar to '{query_word}':\")\n",
        "    for word, similarity in similarities[:top_n]:\n",
        "        print(f\"{word}: {similarity:.4f}\")\n",
        "\n"
      ],
      "metadata": {
        "id": "0wt6O91ajECC"
      },
      "execution_count": 61,
      "outputs": []
    },
    {
      "cell_type": "code",
      "source": [
        "query_words = ['poland', 'thailand', 'morocco']\n",
        "\n",
        "for query_word in query_words:\n",
        "    find_similar_words(query_word, vocab, embeddings)\n",
        "    print(\"\\n\")\n"
      ],
      "metadata": {
        "id": "Ezzy52UyjFR8",
        "colab": {
          "base_uri": "https://localhost:8080/"
        },
        "outputId": "f8664240-ce61-4baa-d199-053c3b8e249f"
      },
      "execution_count": 62,
      "outputs": [
        {
          "output_type": "stream",
          "name": "stdout",
          "text": [
            "Words most similar to 'poland':\n",
            "poland: 1.0000\n",
            "thailand: 1.0000\n",
            "morocco: 1.0000\n",
            "\n",
            "\n",
            "Words most similar to 'thailand':\n",
            "poland: 1.0000\n",
            "thailand: 1.0000\n",
            "morocco: 1.0000\n",
            "\n",
            "\n",
            "Words most similar to 'morocco':\n",
            "poland: 1.0000\n",
            "thailand: 1.0000\n",
            "morocco: 1.0000\n",
            "\n",
            "\n"
          ]
        }
      ]
    },
    {
      "cell_type": "markdown",
      "source": [
        "# TODO: Visualise the embeddings"
      ],
      "metadata": {
        "id": "M4eJgZRQxFz2"
      }
    },
    {
      "cell_type": "code",
      "source": [
        "# Create a scatter plot of the embeddings\n",
        "idx_to_word = {index: word for word, index in vocab.items()}\n",
        "\n",
        "plt.figure(figsize=(10, 8))\n",
        "for i, word in idx_to_word.items():\n",
        "    if i < len(embeddings):  # Check if index is within the bounds of the embeddings array\n",
        "        emb = embeddings[i]\n",
        "        plt.scatter(emb[0], emb[1], marker='o', color='red')\n",
        "        plt.text(emb[0] + 0.02, emb[1] + 0.02, word, fontsize=9)\n",
        "plt.title('Word Embeddings')\n",
        "plt.xlabel('Dimension 1')\n",
        "plt.ylabel('Dimension 2')\n",
        "plt.grid(True)\n",
        "plt.show()"
      ],
      "metadata": {
        "id": "vB3ZFrgapYr_",
        "colab": {
          "base_uri": "https://localhost:8080/",
          "height": 533
        },
        "outputId": "a3ba7154-bf1f-4dc8-9c11-340b5d279a14"
      },
      "execution_count": 64,
      "outputs": [
        {
          "output_type": "display_data",
          "data": {
            "text/plain": [
              "<Figure size 1000x800 with 1 Axes>"
            ],
            "image/png": "[encoded data removed]"
          },
          "metadata": {}
        }
      ]
    }
  ]
}