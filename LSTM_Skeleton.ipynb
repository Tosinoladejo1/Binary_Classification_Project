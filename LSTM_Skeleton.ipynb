{
  "nbformat": 4,
  "nbformat_minor": 0,
  "metadata": {
    "colab": {
      "provenance": [],
      "include_colab_link": true
    },
    "kernelspec": {
      "name": "python3",
      "display_name": "Python 3"
    },
    "language_info": {
      "name": "python"
    }
  },
  "cells": [
    {
      "cell_type": "markdown",
      "metadata": {
        "id": "view-in-github",
        "colab_type": "text"
      },
      "source": [
        "<a href=\"https://colab.research.google.com/github/Tosinoladejo1/Binary_Classification_Project/blob/main/LSTM_Skeleton.ipynb\" target=\"_parent\"><img src=\"https://colab.research.google.com/assets/colab-badge.svg\" alt=\"Open In Colab\"/></a>"
      ]
    },
    {
      "cell_type": "markdown",
      "source": [
        "# TODO: Import the required libraries"
      ],
      "metadata": {
        "id": "-ShLoND4kvBP"
      }
    },
    {
      "cell_type": "markdown",
      "source": [
        "Q6.1: For this task, you’ll be working with a text file containing data that needs to be\n",
        "preprocessed for further analysis. Start by accessing the file from its location on your drive. Once opened,\n",
        "read its contents into a string, ensuring that the text is handled in a case-insensitive manner by converting it\n",
        "to lowercase. To remove punctuations in the text, apply a regular expression that filters out all characters\n",
        "that are not letters, digits, underscores, or whitespace (not \\w and \\s in regex). For example:\n",
        "Sample text: “Hello, World! Welcome to 2024. Let’s preprocess this text: #ECE-657 @UWaterloo\"\n",
        "Preprocessed sample text: “hello world welcome to 2024 lets preprocess this text ece657 uwaterloo\"\n",
        "This preprocessing step simplifies the text, making it uniform and easier to analyze in subsequent tasks. Print\n",
        "the length of the final processed text obtained."
      ],
      "metadata": {
        "id": "COjLA-wRwLLI"
      }
    },
    {
      "cell_type": "code",
      "source": [
        "# TODO\n",
        "import os\n",
        "import numpy as np\n",
        "import tensorflow as tf\n",
        "import random\n",
        "import re\n",
        "from tensorflow.keras.preprocessing.text import Tokenizer\n",
        "from tensorflow.keras.preprocessing.sequence import pad_sequences\n",
        "from tensorflow.keras.layers import Dense, Bidirectional, LSTM, Embedding, LayerNormalization, GRU, Dropout\n",
        "from tensorflow.keras.models import Sequential, Model\n",
        "from sklearn.model_selection import train_test_split\n",
        "import matplotlib.pyplot as plt\n",
        "from google.colab import drive"
      ],
      "metadata": {
        "id": "JNm5tMT4owV2"
      },
      "execution_count": 3,
      "outputs": []
    },
    {
      "cell_type": "markdown",
      "source": [
        "# Adding random seed"
      ],
      "metadata": {
        "id": "Pc0lsInBt0hO"
      }
    },
    {
      "cell_type": "code",
      "source": [
        "# Set environment variables\n",
        "os.environ['PYTHONHASHSEED'] = str(25)\n",
        "os.environ['TF_DETERMINISTIC_OPS'] = '1'\n",
        "os.environ['TF_CUDNN_DETERMINISTIC'] = '1'\n",
        "\n",
        "# Set seed values\n",
        "np.random.seed(25)\n",
        "tf.random.set_seed(25)\n",
        "random.seed(25)"
      ],
      "metadata": {
        "id": "-fG-gUjRt9N-"
      },
      "execution_count": 4,
      "outputs": []
    },
    {
      "cell_type": "markdown",
      "source": [
        "# TODO: Read and Preprocess the dataset"
      ],
      "metadata": {
        "id": "PA28CYq9kzYI"
      }
    },
    {
      "cell_type": "code",
      "source": [
        "drive.mount('/content/drive')\n",
        "path = '/content/drive/My Drive/alice.txt'\n",
        "text = \"\"\n",
        "\n",
        "# TODO: Load and preprocess the text\n",
        "def tokenize(text):\n",
        "    pattern = re.sub(r'[^\\w\\s]', '', text)\n",
        "    return pattern.lower()\n",
        "\n",
        "with open(path, 'r', encoding='utf-8') as file:\n",
        "   words = file.read()\n",
        "text = tokenize(words)"
      ],
      "metadata": {
        "id": "UF9gYFvBk4zQ",
        "colab": {
          "base_uri": "https://localhost:8080/"
        },
        "outputId": "e9389548-7a6f-4fce-e415-7ffb03592d52"
      },
      "execution_count": 5,
      "outputs": [
        {
          "output_type": "stream",
          "name": "stdout",
          "text": [
            "Mounted at /content/drive\n"
          ]
        }
      ]
    },
    {
      "cell_type": "code",
      "source": [
        "print(len(text))"
      ],
      "metadata": {
        "id": "2UHmLguZRMUS",
        "colab": {
          "base_uri": "https://localhost:8080/"
        },
        "outputId": "016fb3f5-0829-408e-88db-3c5d7dc559c7"
      },
      "execution_count": 6,
      "outputs": [
        {
          "output_type": "stream",
          "name": "stdout",
          "text": [
            "140269\n"
          ]
        }
      ]
    },
    {
      "cell_type": "markdown",
      "source": [
        "Q6.2: Initiate the process of text tokenization which is vital for preparing data for natural\n",
        "language processing models. Utilize the Tokenizer from the TensorFlow Keras library used for preparing\n",
        "text data for deep learning models to analyze the text and identify unique words. By fitting the tokenizer\n",
        "to the text, it constructs a comprehensive dictionary of these unique words. Subsequently, calculate the\n",
        "total number of unique words, which is essential for configuring various model parameters, such as input\n",
        "dimensions in neural networks. This total also includes an additional count to accommodate the tokenizer’s\n",
        "indexing method. Print the total number of words."
      ],
      "metadata": {
        "id": "LlOGe_XPweOq"
      }
    },
    {
      "cell_type": "markdown",
      "source": [
        "# TODO: Using tokenizers"
      ],
      "metadata": {
        "id": "76FWfPQnlCfT"
      }
    },
    {
      "cell_type": "code",
      "source": [
        "# TODO: Tokenize the text\n",
        "tokenizer = Tokenizer()\n",
        "tokenizer.fit_on_texts([text])\n",
        "total_words = len(tokenizer.word_index) + 1"
      ],
      "metadata": {
        "id": "g8DkbTcZlDe6"
      },
      "execution_count": 7,
      "outputs": []
    },
    {
      "cell_type": "code",
      "source": [
        "print(total_words)"
      ],
      "metadata": {
        "id": "66GlWnQmRPcx",
        "colab": {
          "base_uri": "https://localhost:8080/"
        },
        "outputId": "98d42131-c00e-4067-e178-2ab3cb611365"
      },
      "execution_count": 8,
      "outputs": [
        {
          "output_type": "stream",
          "name": "stdout",
          "text": [
            "2751\n"
          ]
        }
      ]
    },
    {
      "cell_type": "markdown",
      "source": [
        "Q6.3: In this task, you’ll prepare input sequences for training by first splitting the preprocessed\n",
        "text on newline character and converting each line into a list of tokenized words. For each line, generate\n",
        "n-gram sequences of increasing length to create a comprehensive set of training samples. These n-grams,\n",
        "which consist of consecutive tokens, help the model learn contextual relationships within the data. After\n",
        "constructing these sequences, identify the maximum sequence length and standardize all sequences to this\n",
        "length using padding. This padding, typically added to the beginning of sequences, ensures that all input\n",
        "data fed into the model maintains a consistent format, crucial for effective training of sequence-based neural\n",
        "networks like LSTMs or RNNs. For example for the given text,\n",
        "\"Hello world\n",
        "How are you\"\n",
        "Following steps will occur:\n",
        "Tokenizer mapping: {\"hello\": 1, \"world\": 2, \"how\": 3, \"are\": 4, \"you\": 5}\n",
        "After tokenization and creating n-gram sequences:\n",
        "For \"Hello world\": [1, 2]\n",
        "For \"How are you\": [3, 4], [3, 4, 5]\n",
        "Combining all n-gram sequences:[[1, 2], [3, 4], [3, 4, 5]]\n",
        "Maximum sequence length: 3\n",
        "After padding:[[0, 1, 2], [0, 3, 4], [3, 4, 5]]\n",
        "For the following steps print the number of input sequences finally created for the actual given text."
      ],
      "metadata": {
        "id": "9Zm5MFtUwYyp"
      }
    },
    {
      "cell_type": "markdown",
      "source": [
        "# TODO: Feature Engineering"
      ],
      "metadata": {
        "id": "9f7lULFglL2S"
      }
    },
    {
      "cell_type": "code",
      "source": [
        "# TODO: Create input sequences\n",
        "input_sequences = []\n",
        "for line in text.split('\\n'):\n",
        "    token_list = tokenizer.texts_to_sequences([line])[0]\n",
        "    for i in range(1, len(token_list)):\n",
        "         n_gram_sequence = token_list[:i+1]\n",
        "         input_sequences.append(n_gram_sequence)\n",
        "max_sequence_len = max([len(x) for x in input_sequences])\n",
        "input_sequences = np.array(pad_sequences(input_sequences,maxlen=max_sequence_len, padding='pre'))\n",
        "print(input_sequences)\n",
        " # TODO: Pad sequences"
      ],
      "metadata": {
        "colab": {
          "base_uri": "https://localhost:8080/"
        },
        "id": "J-97S5nZlsdH",
        "outputId": "0c5afaab-22ba-4f0d-8d31-2b079cdecb43"
      },
      "execution_count": 12,
      "outputs": [
        {
          "output_type": "stream",
          "name": "stdout",
          "text": [
            "[[   0    0    0 ...    0  274  465]\n",
            " [   0    0    0 ...  274  465   11]\n",
            " [   0    0    0 ...  465   11  682]\n",
            " ...\n",
            " [   0    0    0 ...    1 2750 1452]\n",
            " [   0    0    0 ... 2750 1452  793]\n",
            " [   0    0    0 ...    0    1  212]]\n"
          ]
        }
      ]
    },
    {
      "cell_type": "code",
      "source": [
        "print(input_sequences.shape)"
      ],
      "metadata": {
        "colab": {
          "base_uri": "https://localhost:8080/"
        },
        "id": "HxrRXsuwnE9r",
        "outputId": "74c15fbb-b456-4977-c1a4-a5fecd492e9f"
      },
      "execution_count": 13,
      "outputs": [
        {
          "output_type": "stream",
          "name": "stdout",
          "text": [
            "(23693, 16)\n"
          ]
        }
      ]
    },
    {
      "cell_type": "markdown",
      "source": [
        "Q6.4: In this phase of preparing your data for machine learning models, you’ll separate the\n",
        "previously formatted input sequences into predictors (features) and labels (targets). By slicing the sequences,\n",
        "the last token of each sequence becomes the label, while the preceding tokens form the predictors. Convert the\n",
        "label tokens into one-hot encoded vectors using TensorFlow’s utility function, facilitating effective categorical\n",
        "output prediction. Subsequently, divide your dataset into training and validation subsets using a 20% split\n",
        "for validation. Print the size of the train and validation subsets for the features and targets."
      ],
      "metadata": {
        "id": "3AtHZVD9wwpk"
      }
    },
    {
      "cell_type": "markdown",
      "source": [
        "# TODO: Storing features and labels"
      ],
      "metadata": {
        "id": "3Sx1nF7ClSwv"
      }
    },
    {
      "cell_type": "code",
      "source": [
        "# TODO: Create predictors and labels\n",
        "X = input_sequences[:, :-1]\n",
        "y = input_sequences[:, -1]\n",
        "y = np.array(tf.keras.utils.to_categorical(y, num_classes=total_words))\n",
        "      # TODO: Split the data into training and validation sets\n",
        "X_train, X_val, y_train, y_val = train_test_split(X, y, test_size=0.2,random_state=25)\n",
        "print(f\"X_train shape: {X_train.shape}\")\n",
        "print(f\"y_train shape: {y_train.shape}\")\n",
        "print(f\"X_val shape: {X_val.shape}\")\n",
        "print(f\"y_val shape: {y_val.shape}\")\n",
        "\n"
      ],
      "metadata": {
        "id": "U72XiieKlTAG",
        "colab": {
          "base_uri": "https://localhost:8080/"
        },
        "outputId": "28dbb9e5-25dc-41c0-8ce6-77b14c95fb25"
      },
      "execution_count": 14,
      "outputs": [
        {
          "output_type": "stream",
          "name": "stdout",
          "text": [
            "X_train shape: (18954, 15)\n",
            "y_train shape: (18954, 2751)\n",
            "X_val shape: (4739, 15)\n",
            "y_val shape: (4739, 2751)\n"
          ]
        }
      ]
    },
    {
      "cell_type": "markdown",
      "source": [
        "Q6.5: Create a simple LSTM-based model by defining a sequential architecture. Begin with an\n",
        "embedding layer that uses the total number of words as the input dimension, and an output dimension of\n",
        "100. Follow this with an LSTM layer containing 150 units. Then, add a dense layer with the total number of\n",
        "words as the output dimension, using the softmax activation function. Compile the model with categorical\n",
        "cross-entropy as the loss function, the Adam optimizer, and accuracy as the metric. After defining the model,\n",
        "print its summary. Build and train the model for 20 epochs. After training, visualize the performance by\n",
        "plotting the training and validation accuracy and loss over the epochs. Is the model overfitting? Explain\n",
        "your observation. Create one more model of your choice (you may explore Bidirectional, LayerNormalization,\n",
        "Dropout, Attention and GRU etc) that improves upon the previous model in terms of overfitting. Print this\n",
        "new model summary, train for 20 epochs, and then plot the training and validation accuracy and loss"
      ],
      "metadata": {
        "id": "TLDUKvtdw1XS"
      }
    },
    {
      "cell_type": "markdown",
      "source": [
        "# TODO: Building our model"
      ],
      "metadata": {
        "id": "J2D4YaQ2lWxh"
      }
    },
    {
      "cell_type": "code",
      "source": [
        "# TODO: Build your model\n",
        "model = Sequential()\n",
        "model.add(Embedding(total_words, 100, input_length=max_sequence_len-1))\n",
        "model.add(LSTM(150))\n",
        "model.add(Dense(total_words, activation='softmax'))\n",
        "\n",
        "model.compile(loss='categorical_crossentropy', optimizer='adam', metrics=['accuracy'])\n",
        "\n",
        "print(model.summary())"
      ],
      "metadata": {
        "id": "x1-88fIblY1j",
        "colab": {
          "base_uri": "https://localhost:8080/"
        },
        "outputId": "5a8ea7a1-8fc1-400e-c115-1476fca8ea74"
      },
      "execution_count": 19,
      "outputs": [
        {
          "output_type": "stream",
          "name": "stdout",
          "text": [
            "Model: \"sequential_3\"\n",
            "_________________________________________________________________\n",
            " Layer (type)                Output Shape              Param #   \n",
            "=================================================================\n",
            " embedding_3 (Embedding)     (None, 15, 100)           275100    \n",
            "                                                                 \n",
            " lstm_3 (LSTM)               (None, 150)               150600    \n",
            "                                                                 \n",
            " dense_3 (Dense)             (None, 2751)              415401    \n",
            "                                                                 \n",
            "=================================================================\n",
            "Total params: 841101 (3.21 MB)\n",
            "Trainable params: 841101 (3.21 MB)\n",
            "Non-trainable params: 0 (0.00 Byte)\n",
            "_________________________________________________________________\n",
            "None\n"
          ]
        }
      ]
    },
    {
      "cell_type": "markdown",
      "source": [
        "# TODO: Model training"
      ],
      "metadata": {
        "id": "mgqvWzdUleUE"
      }
    },
    {
      "cell_type": "code",
      "source": [
        "# TODO: Train your model\n",
        "history = model.fit(X_train, y_train, epochs=20, validation_data=(X_val, y_val))"
      ],
      "metadata": {
        "id": "vhx4p1lWldOS",
        "colab": {
          "base_uri": "https://localhost:8080/"
        },
        "outputId": "0ad5bf9e-add6-4956-fa63-7b6762d0e155"
      },
      "execution_count": 21,
      "outputs": [
        {
          "output_type": "stream",
          "name": "stdout",
          "text": [
            "Epoch 1/20\n",
            "593/593 [==============================] - 27s 45ms/step - loss: 5.9866 - accuracy: 0.0654 - val_loss: 6.0345 - val_accuracy: 0.0637\n",
            "Epoch 2/20\n",
            "593/593 [==============================] - 25s 43ms/step - loss: 5.6685 - accuracy: 0.0825 - val_loss: 5.8446 - val_accuracy: 0.0867\n",
            "Epoch 3/20\n",
            "593/593 [==============================] - 27s 46ms/step - loss: 5.3565 - accuracy: 0.1043 - val_loss: 5.7192 - val_accuracy: 0.1000\n",
            "Epoch 4/20\n",
            "593/593 [==============================] - 37s 62ms/step - loss: 5.0671 - accuracy: 0.1269 - val_loss: 5.6533 - val_accuracy: 0.1177\n",
            "Epoch 5/20\n",
            "593/593 [==============================] - 27s 45ms/step - loss: 4.8101 - accuracy: 0.1450 - val_loss: 5.6169 - val_accuracy: 0.1306\n",
            "Epoch 6/20\n",
            "593/593 [==============================] - 29s 48ms/step - loss: 4.5764 - accuracy: 0.1610 - val_loss: 5.6036 - val_accuracy: 0.1357\n",
            "Epoch 7/20\n",
            "593/593 [==============================] - 30s 50ms/step - loss: 4.3554 - accuracy: 0.1791 - val_loss: 5.6346 - val_accuracy: 0.1365\n",
            "Epoch 8/20\n",
            "593/593 [==============================] - 28s 48ms/step - loss: 4.1456 - accuracy: 0.1962 - val_loss: 5.6723 - val_accuracy: 0.1403\n",
            "Epoch 9/20\n",
            "593/593 [==============================] - 28s 47ms/step - loss: 3.9446 - accuracy: 0.2156 - val_loss: 5.7080 - val_accuracy: 0.1429\n",
            "Epoch 10/20\n",
            "593/593 [==============================] - 28s 47ms/step - loss: 3.7474 - accuracy: 0.2353 - val_loss: 5.7546 - val_accuracy: 0.1443\n",
            "Epoch 11/20\n",
            "593/593 [==============================] - 27s 46ms/step - loss: 3.5572 - accuracy: 0.2584 - val_loss: 5.8250 - val_accuracy: 0.1412\n",
            "Epoch 12/20\n",
            "593/593 [==============================] - 26s 43ms/step - loss: 3.3734 - accuracy: 0.2827 - val_loss: 5.8931 - val_accuracy: 0.1435\n",
            "Epoch 13/20\n",
            "593/593 [==============================] - 26s 43ms/step - loss: 3.1928 - accuracy: 0.3106 - val_loss: 5.9680 - val_accuracy: 0.1452\n",
            "Epoch 14/20\n",
            "593/593 [==============================] - 27s 45ms/step - loss: 3.0178 - accuracy: 0.3408 - val_loss: 6.0663 - val_accuracy: 0.1448\n",
            "Epoch 15/20\n",
            "593/593 [==============================] - 28s 47ms/step - loss: 2.8527 - accuracy: 0.3697 - val_loss: 6.1551 - val_accuracy: 0.1414\n",
            "Epoch 16/20\n",
            "593/593 [==============================] - 28s 47ms/step - loss: 2.6919 - accuracy: 0.4033 - val_loss: 6.2550 - val_accuracy: 0.1422\n",
            "Epoch 17/20\n",
            "593/593 [==============================] - 26s 44ms/step - loss: 2.5412 - accuracy: 0.4303 - val_loss: 6.3405 - val_accuracy: 0.1418\n",
            "Epoch 18/20\n",
            "593/593 [==============================] - 27s 45ms/step - loss: 2.4004 - accuracy: 0.4623 - val_loss: 6.4583 - val_accuracy: 0.1391\n",
            "Epoch 19/20\n",
            "593/593 [==============================] - 28s 47ms/step - loss: 2.2661 - accuracy: 0.4880 - val_loss: 6.5437 - val_accuracy: 0.1399\n",
            "Epoch 20/20\n",
            "593/593 [==============================] - 27s 46ms/step - loss: 2.1385 - accuracy: 0.5172 - val_loss: 6.6627 - val_accuracy: 0.1391\n"
          ]
        }
      ]
    },
    {
      "cell_type": "markdown",
      "source": [
        "# TODO: Visualising the Training and Validation Accuracies and Losses against the number of Epochs"
      ],
      "metadata": {
        "id": "69szYwGslknP"
      }
    },
    {
      "cell_type": "code",
      "source": [
        "# TODO: Plotting the training and validation loss and accuracy\n",
        "plt.figure(figsize=(12, 4))\n",
        "# Accuracy plot\n",
        "plt.subplot (1, 2, 1)\n",
        "plt.plot(history.history['accuracy'], label='Train Accuracy') # Use 'history' instead of 'improved_history'\n",
        "plt.plot(history.history['val_accuracy'], label='Validation Accuracy')\n",
        "plt.title( 'Training and Validation Accuracy - Improved Model' )\n",
        "plt.xlabel( 'Epochs')\n",
        "plt.ylabel( 'Accuracy')\n",
        "plt. legend ( )\n",
        "# Loss plot\n",
        "plt. subplot (1, 2, 2)\n",
        "plt.plot(history.history['loss'], label='Train Loss') # Correct typo: 'plt-plot' to 'plt.plot'\n",
        "plt.plot(history.history['val_loss'], label='Validation Loss') # Correct typo: 'plt-plot' to 'plt.plot'\n",
        "plt.title( 'Training and Validation Loss - Improved Model')\n",
        "plt.xlabel( 'Epochs')\n",
        "plt.ylabel( 'Loss')\n",
        "plt. legend ( )\n",
        "plt.show()\n"
      ],
      "metadata": {
        "id": "ti0KtAsJllVB",
        "colab": {
          "base_uri": "https://localhost:8080/",
          "height": 304
        },
        "outputId": "7fd018d0-137f-488b-8c53-b94b15143aba"
      },
      "execution_count": 24,
      "outputs": [
        {
          "output_type": "display_data",
          "data": {
            "text/plain": [
              "<Figure size 1200x400 with 2 Axes>"
            ],
            "image/png": "[encoded data removed]"
          },
          "metadata": {}
        }
      ]
    },
    {
      "cell_type": "markdown",
      "source": [
        "Q6.6: Define the generate_text() function that takes a starting text, the desired number\n",
        "of additional words, a predictive model, the maximum sequence length, and a temperature parameter as\n",
        "inputs. Within the function, predict the subsequent word iteratively based on the evolving text. In each\n",
        "iteration, convert the current text into tokens, pad these tokens to the required sequence length, and use the\n",
        "model to predict the logits (unnormalized predictions generated by the last layer of a neural network before\n",
        "applying an activation function) for the next word. Adjust the logits by the temperature parameter, apply\n",
        "the softmax function to get probabilities, and sample the next word’s index based on these probabilities.\n",
        "Map this index back to the corresponding word using the tokenizer, and append the word to the current text.\n",
        "Ultimately, return the expanded text that now includes the newly generated words, effectively extending\n",
        "the original text input. The temperature parameter in NLP controls the randomness of the predictions by\n",
        "adjusting the probability distribution of the next word. Lower temperatures make the model more confident\n",
        "and deterministic, often resulting in more repetitive and conservative text, while higher temperatures increase\n",
        "randomness, producing more diverse and creative outputs but also raising the risk of generating incoherent\n",
        "text. Demonstrate the function by generating text with temperature values 0.05 and 1.5 using the previously\n",
        "created model with less overfitting."
      ],
      "metadata": {
        "id": "peDfX30ZxHlt"
      }
    },
    {
      "cell_type": "markdown",
      "source": [
        "# TODO: Generate text"
      ],
      "metadata": {
        "id": "qMsd889wuvR4"
      }
    },
    {
      "cell_type": "code",
      "source": [
        "# TODO: Function to generate text\n",
        "def prepare_input(text):\n",
        "    sequence = tokenizer.texts_to_sequences([text])[0]\n",
        "    return sequence\n",
        "def sample(preds, temperature):\n",
        "    preds = np.asarray(preds).astype('float64')\n",
        "    preds = np.log(preds) / temperature\n",
        "    exp_preds = np.exp(preds)\n",
        "    preds = exp_preds / np.sum(exp_preds)\n",
        "    probas = np.random.multinomial(1, preds, 1)\n",
        "    return np.argmax(probas)\n",
        "\n",
        "def generate_text(seed_text, next_words, model, max_sequence_len, temperature):\n",
        "    input_text = seed_text\n",
        "    for _ in range(next_words):\n",
        "        sequence = prepare_input(input_text)\n",
        "        predictions = model.predict(np.array(sequence).reshape(1, -1))\n",
        "        next_index = sample(predictions[-1], temperature)\n",
        "        next_word = tokenizer.index_word[next_index]\n",
        "        input_text += \" \" + next_word\n",
        "    return input_text\n",
        "\n",
        "# Generate text\n",
        "seed_text = \"Forest is\"\n",
        "next_words = 10\n",
        "generated_text = generate_text(seed_text, next_words, model, max_sequence_len, temperature=0.05)\n",
        "generated_text2 = generate_text(seed_text, next_words, model, max_sequence_len, temperature=1.5)\n",
        "print(generated_text)\n",
        "print (generated_text2)"
      ],
      "metadata": {
        "id": "SXHE7cU_uxRx",
        "colab": {
          "base_uri": "https://localhost:8080/"
        },
        "outputId": "9fa3d03c-5961-4755-bb3c-c2ecc7a909ef"
      },
      "execution_count": 40,
      "outputs": [
        {
          "output_type": "stream",
          "name": "stdout",
          "text": [
            "1/1 [==============================] - 0s 32ms/step\n",
            "1/1 [==============================] - 0s 40ms/step\n",
            "1/1 [==============================] - 0s 36ms/step\n",
            "1/1 [==============================] - 0s 37ms/step\n",
            "1/1 [==============================] - 0s 44ms/step\n",
            "1/1 [==============================] - 0s 46ms/step\n",
            "1/1 [==============================] - 0s 60ms/step\n",
            "1/1 [==============================] - 0s 60ms/step\n",
            "1/1 [==============================] - 0s 55ms/step\n",
            "1/1 [==============================] - 0s 50ms/step\n",
            "1/1 [==============================] - 0s 53ms/step\n",
            "1/1 [==============================] - 0s 48ms/step\n",
            "1/1 [==============================] - 0s 49ms/step\n",
            "1/1 [==============================] - 0s 48ms/step\n",
            "1/1 [==============================] - 0s 51ms/step\n",
            "1/1 [==============================] - 0s 70ms/step\n",
            "1/1 [==============================] - 0s 51ms/step\n",
            "1/1 [==============================] - 0s 49ms/step\n",
            "1/1 [==============================] - 0s 51ms/step\n",
            "1/1 [==============================] - 0s 49ms/step\n",
            "Forest is blame to be sure i shant be told you end\n",
            "Forest is trees wake barleysugar executed place nibbling little smiled here dont\n"
          ]
        }
      ]
    },
    {
      "cell_type": "markdown",
      "source": [
        "Q6.7: In the preprocessing step for NLP, removing stop words is often considered important.\n",
        "We did not perform stop word removal in our text generation task. Should we have done that? Explain\n",
        "reasons to support your answer\n",
        "\n",
        "\n",
        "Stop word removal is typically performed to reduce the size of the dataset and focus on the meaningful words. However, in language modeling and next word prediction tasks, it plays a crucial role in maintaining the context and structure of the sentences.so removing stop words might lead to loss of important contextual information, especially in generative models. Therefore, it better not to remove stop words.\n"
      ],
      "metadata": {
        "id": "HYBzjkSBxJru"
      }
    }
  ]
}